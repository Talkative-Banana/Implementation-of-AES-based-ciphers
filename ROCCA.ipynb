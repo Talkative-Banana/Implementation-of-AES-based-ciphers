{
  "nbformat": 4,
  "nbformat_minor": 0,
  "metadata": {
    "colab": {
      "provenance": []
    },
    "kernelspec": {
      "name": "python3",
      "display_name": "Python 3"
    },
    "language_info": {
      "name": "python"
    }
  },
  "cells": [
    {
      "cell_type": "markdown",
      "source": [
        "## Assignment 4"
      ],
      "metadata": {
        "id": "KxvAbP7ekHPO"
      }
    },
    {
      "cell_type": "markdown",
      "source": [
        "# Encryption"
      ],
      "metadata": {
        "id": "6aT8OEoCye9U"
      }
    },
    {
      "cell_type": "code",
      "source": [
        "pip install galois"
      ],
      "metadata": {
        "id": "um4-WGdxIQ5h",
        "colab": {
          "base_uri": "https://localhost:8080/"
        },
        "outputId": "97343be5-c664-4823-9124-0778eec92c41"
      },
      "execution_count": null,
      "outputs": [
        {
          "output_type": "stream",
          "name": "stdout",
          "text": [
            "Collecting galois\n",
            "  Downloading galois-0.4.2-py3-none-any.whl.metadata (14 kB)\n",
            "Requirement already satisfied: numpy<2.2,>=1.21.0 in /usr/local/lib/python3.10/dist-packages (from galois) (1.26.4)\n",
            "Requirement already satisfied: numba<0.61,>=0.55 in /usr/local/lib/python3.10/dist-packages (from galois) (0.60.0)\n",
            "Requirement already satisfied: typing-extensions>=4.0.0 in /usr/local/lib/python3.10/dist-packages (from galois) (4.12.2)\n",
            "Requirement already satisfied: llvmlite<0.44,>=0.43.0dev0 in /usr/local/lib/python3.10/dist-packages (from numba<0.61,>=0.55->galois) (0.43.0)\n",
            "Downloading galois-0.4.2-py3-none-any.whl (4.2 MB)\n",
            "\u001b[?25l   \u001b[90m━━━━━━━━━━━━━━━━━━━━━━━━━━━━━━━━━━━━━━━━\u001b[0m \u001b[32m0.0/4.2 MB\u001b[0m \u001b[31m?\u001b[0m eta \u001b[36m-:--:--\u001b[0m\r\u001b[2K   \u001b[91m━━━━━━━━━━━━━━━━━━━━━━━━━━━━━━━\u001b[0m\u001b[91m╸\u001b[0m\u001b[90m━━━━━━━━\u001b[0m \u001b[32m3.3/4.2 MB\u001b[0m \u001b[31m94.8 MB/s\u001b[0m eta \u001b[36m0:00:01\u001b[0m\r\u001b[2K   \u001b[91m━━━━━━━━━━━━━━━━━━━━━━━━━━━━━━━━━━━━━━━\u001b[0m\u001b[91m╸\u001b[0m \u001b[32m4.2/4.2 MB\u001b[0m \u001b[31m92.0 MB/s\u001b[0m eta \u001b[36m0:00:01\u001b[0m\r\u001b[2K   \u001b[90m━━━━━━━━━━━━━━━━━━━━━━━━━━━━━━━━━━━━━━━━\u001b[0m \u001b[32m4.2/4.2 MB\u001b[0m \u001b[31m54.0 MB/s\u001b[0m eta \u001b[36m0:00:00\u001b[0m\n",
            "\u001b[?25hInstalling collected packages: galois\n",
            "Successfully installed galois-0.4.2\n"
          ]
        }
      ]
    },
    {
      "cell_type": "markdown",
      "source": [
        "# Constants"
      ],
      "metadata": {
        "id": "vtzjiVwMhonl"
      }
    },
    {
      "cell_type": "code",
      "source": [
        "import numpy as np\n",
        "import galois\n",
        "\n",
        "GF = galois.GF(2**8, irreducible_poly=galois.Poly.Degrees([8,4,3,1,0]))\n",
        "\n",
        "# Global matrix for Mix Column multiplication\n",
        "\n",
        "mixcolMatrix = [[2, 3, 1, 1], [1, 2, 3, 1], [1, 1, 2, 3], [3, 1, 1, 2]]\n",
        "\n",
        "# List of S-Boxes different for each round\n",
        "s_box = [\n",
        "        [int('63', 16), int('7c', 16), int('77', 16), int('7b', 16), int('f2', 16), int('6b', 16), int('6f', 16), int('c5', 16), int(\n",
        "            '30', 16), int('01', 16), int('67', 16), int('2b', 16), int('fe', 16), int('d7', 16), int('ab', 16), int('76', 16)],\n",
        "        [int('ca', 16), int('82', 16), int('c9', 16), int('7d', 16), int('fa', 16), int('59', 16), int('47', 16), int('f0', 16), int(\n",
        "            'ad', 16), int('d4', 16), int('a2', 16), int('af', 16), int('9c', 16), int('a4', 16), int('72', 16), int('c0', 16)],\n",
        "        [int('b7', 16), int('fd', 16), int('93', 16), int('26', 16), int('36', 16), int('3f', 16), int('f7', 16), int('cc', 16), int(\n",
        "            '34', 16), int('a5', 16), int('e5', 16), int('f1', 16), int('71', 16), int('d8', 16), int('31', 16), int('15', 16)],\n",
        "        [int('04', 16), int('c7', 16), int('23', 16), int('c3', 16), int('18', 16), int('96', 16), int('05', 16), int('9a', 16), int(\n",
        "            '07', 16), int('12', 16), int('80', 16), int('e2', 16), int('eb', 16), int('27', 16), int('b2', 16), int('75', 16)],\n",
        "        [int('09', 16), int('83', 16), int('2c', 16), int('1a', 16), int('1b', 16), int('6e', 16), int('5a', 16), int('a0', 16), int(\n",
        "            '52', 16), int('3b', 16), int('d6', 16), int('b3', 16), int('29', 16), int('e3', 16), int('2f', 16), int('84', 16)],\n",
        "        [int('53', 16), int('d1', 16), int('00', 16), int('ed', 16), int('20', 16), int('fc', 16), int('b1', 16), int('5b', 16), int(\n",
        "            '6a', 16), int('cb', 16), int('be', 16), int('39', 16), int('4a', 16), int('4c', 16), int('58', 16), int('cf', 16)],\n",
        "        [int('d0', 16), int('ef', 16), int('aa', 16), int('fb', 16), int('43', 16), int('4d', 16), int('33', 16), int('85', 16), int(\n",
        "            '45', 16), int('f9', 16), int('02', 16), int('7f', 16), int('50', 16), int('3c', 16), int('9f', 16), int('a8', 16)],\n",
        "        [int('51', 16), int('a3', 16), int('40', 16), int('8f', 16), int('92', 16), int('9d', 16), int('38', 16), int('f5', 16), int(\n",
        "            'bc', 16), int('b6', 16), int('da', 16), int('21', 16), int('10', 16), int('ff', 16), int('f3', 16), int('d2', 16)],\n",
        "        [int('cd', 16), int('0c', 16), int('13', 16), int('ec', 16), int('5f', 16), int('97', 16), int('44', 16), int('17', 16), int(\n",
        "            'c4', 16), int('a7', 16), int('7e', 16), int('3d', 16), int('64', 16), int('5d', 16), int('19', 16), int('73', 16)],\n",
        "        [int('60', 16), int('81', 16), int('4f', 16), int('dc', 16), int('22', 16), int('2a', 16), int('90', 16), int('88', 16), int(\n",
        "            '46', 16), int('ee', 16), int('b8', 16), int('14', 16), int('de', 16), int('5e', 16), int('0b', 16), int('db', 16)],\n",
        "        [int('e0', 16), int('32', 16), int('3a', 16), int('0a', 16), int('49', 16), int('06', 16), int('24', 16), int('5c', 16), int(\n",
        "            'c2', 16), int('d3', 16), int('ac', 16), int('62', 16), int('91', 16), int('95', 16), int('e4', 16), int('79', 16)],\n",
        "        [int('e7', 16), int('c8', 16), int('37', 16), int('6d', 16), int('8d', 16), int('d5', 16), int('4e', 16), int('a9', 16), int(\n",
        "            '6c', 16), int('56', 16), int('f4', 16), int('ea', 16), int('65', 16), int('7a', 16), int('ae', 16), int('08', 16)],\n",
        "        [int('ba', 16), int('78', 16), int('25', 16), int('2e', 16), int('1c', 16), int('a6', 16), int('b4', 16), int('c6', 16), int(\n",
        "            'e8', 16), int('dd', 16), int('74', 16), int('1f', 16), int('4b', 16), int('bd', 16), int('8b', 16), int('8a', 16)],\n",
        "        [int('70', 16), int('3e', 16), int('b5', 16), int('66', 16), int('48', 16), int('03', 16), int('f6', 16), int('0e', 16), int(\n",
        "            '61', 16), int('35', 16), int('57', 16), int('b9', 16), int('86', 16), int('c1', 16), int('1d', 16), int('9e', 16)],\n",
        "        [int('e1', 16), int('f8', 16), int('98', 16), int('11', 16), int('69', 16), int('d9', 16), int('8e', 16), int('94', 16), int(\n",
        "            '9b', 16), int('1e', 16), int('87', 16), int('e9', 16), int('ce', 16), int('55', 16), int('28', 16), int('df', 16)],\n",
        "        [int('8c', 16), int('a1', 16), int('89', 16), int('0d', 16), int('bf', 16), int('e6', 16), int('42', 16), int('68', 16), int(\n",
        "            '41', 16), int('99', 16), int('2d', 16), int('0f', 16), int('b0', 16), int('54', 16), int('bb', 16), int('16', 16)]\n",
        "    ]"
      ],
      "metadata": {
        "id": "apx2t2dszUn-"
      },
      "execution_count": null,
      "outputs": []
    },
    {
      "cell_type": "markdown",
      "source": [
        "## ShiftRows"
      ],
      "metadata": {
        "id": "yOwWDHiH57tB"
      }
    },
    {
      "cell_type": "code",
      "source": [
        "def shift_rows(matrix, round):\n",
        "    # Second row [Shift by 1]\n",
        "    saved_1 = matrix[1][0]\n",
        "    for i in range(3):\n",
        "        matrix[1][i] = matrix[1][(i+1)%4]\n",
        "    matrix[1][3] = saved_1\n",
        "\n",
        "    # Third row [Shift by 2]\n",
        "    saved_2_1 = matrix[2][0]\n",
        "    saved_2_2 = matrix[2][1]\n",
        "    for i in range(2):\n",
        "        matrix[2][i] = matrix[2][(i+2)%4]\n",
        "    matrix[2][2] = saved_2_1\n",
        "    matrix[2][3] = saved_2_2\n",
        "\n",
        "    # Fourth row [Shift by 3]\n",
        "    saved_3 = matrix[3][3]\n",
        "    for i in range(3,0,-1):\n",
        "        matrix[3][i] = matrix[3][(i-1)%4]\n",
        "    matrix[3][0] = saved_3\n",
        "\n",
        "    return matrix\n",
        "\n",
        "# Usage\n",
        "print(shift_rows([['cc', '5f', '82', '46'], ['32', '6c', '5f', 'a9'], ['0e', 'a3', '4d', '30'], ['7c', 'ae', 'a2', '10']], 1))"
      ],
      "metadata": {
        "id": "yiicyvZD5-b_",
        "colab": {
          "base_uri": "https://localhost:8080/"
        },
        "outputId": "c9d25ae1-b9dd-41fe-fb41-e3b231f03cc5"
      },
      "execution_count": null,
      "outputs": [
        {
          "output_type": "stream",
          "name": "stdout",
          "text": [
            "[['cc', '5f', '82', '46'], ['6c', '5f', 'a9', '32'], ['4d', '30', '0e', 'a3'], ['10', '7c', 'ae', 'a2']]\n"
          ]
        }
      ]
    },
    {
      "cell_type": "markdown",
      "source": [
        "## MixColumns"
      ],
      "metadata": {
        "id": "eWQHhliS9vFl"
      }
    },
    {
      "cell_type": "code",
      "source": [
        "def mix_columns(matrix):\n",
        "  mat = [[0 for _ in range(4)] for __ in range(4)]\n",
        "  # Column representaion\n",
        "  for row in range(4):\n",
        "    for col in range(4):\n",
        "      mat[row][col] = int(matrix[row][col], 16)\n",
        "\n",
        "  # Galois Multiplication\n",
        "  matrix = GF(np.array(mat))\n",
        "  M = GF(np.array(mixcolMatrix))\n",
        "  a = np.array(np.dot(M, matrix))\n",
        "\n",
        "  # Resultant Matrix\n",
        "  res = [[\"\" for _ in range(4)] for __ in range(4)]\n",
        "  for row in range(4):\n",
        "    for col in range(4):\n",
        "      res[row][col] = hex(int(a[row][col]))[2:].zfill(2)\n",
        "\n",
        "  return res\n",
        "\n",
        "# Usage\n",
        "mix_columns([['87', 'f2', '4d', '97'], ['6e', '4c', '90', 'ec'], ['46', 'e7', '4a', 'c3'], ['a6', '8c', 'd8', '95']])"
      ],
      "metadata": {
        "id": "U1Dt0MyxLHKB",
        "colab": {
          "base_uri": "https://localhost:8080/"
        },
        "outputId": "d4d902ff-1a37-4880-bb0d-e4be43836084"
      },
      "execution_count": null,
      "outputs": [
        {
          "output_type": "execute_result",
          "data": {
            "text/plain": [
              "[['47', '40', 'a3', '4c'],\n",
              " ['37', 'd4', '70', '9f'],\n",
              " ['94', 'e4', '3a', '42'],\n",
              " ['ed', 'a5', 'a6', 'bc']]"
            ]
          },
          "metadata": {},
          "execution_count": 4
        }
      ]
    },
    {
      "cell_type": "markdown",
      "source": [
        "# G Function"
      ],
      "metadata": {
        "id": "_0D6j5KghQx3"
      }
    },
    {
      "cell_type": "code",
      "source": [
        "rc_dictionary = {1: \"01\", 2: \"02\", 3: \"04\", 4: \"08\", 5: \"10\", 6: \"20\", 7: \"40\", 8:\"80\", 9:\"1B\", 10: \"36\"}\n",
        "# performs g function\n",
        "def g(w_word, round):\n",
        "    # Shift Operation\n",
        "    temp = w_word[0]\n",
        "    for i in range(3):\n",
        "        w_word[i] = w_word[(i+1)%4]\n",
        "    w_word[3] = temp\n",
        "\n",
        "    for i in range(4):\n",
        "        w_word[i] = hex(s_box[int(w_word[i][:4], 2)][int(w_word[i][4:], 2)])[2:].zfill(2)\n",
        "\n",
        "    w0 = bin(int(w_word[0][0], 16))[2:].zfill(4) + bin(int(w_word[0][1], 16))[2:].zfill(4)\n",
        "    w_ = bin(int(rc_dictionary[round][0], 16))[2:].zfill(4) + bin(int(rc_dictionary[round][1], 16))[2:].zfill(4)\n",
        "    # Xor\n",
        "    res = \"\"\n",
        "    for bit in range(8):\n",
        "      if(w0[bit] == w_[bit]): res += \"0\"\n",
        "      else: res += \"1\"\n",
        "\n",
        "    for word in range(1, 4):\n",
        "      res += bin(int(w_word[word][0], 16))[2:].zfill(4) + bin(int(w_word[word][1], 16))[2:].zfill(4)\n",
        "\n",
        "    return res"
      ],
      "metadata": {
        "id": "0jPZtfgMDJI9"
      },
      "execution_count": null,
      "outputs": []
    },
    {
      "cell_type": "markdown",
      "source": [
        "# Key Expansion"
      ],
      "metadata": {
        "id": "ZsJZ3G7LhUyI"
      }
    },
    {
      "cell_type": "code",
      "source": [
        "# Expands the key to 44 subkeys\n",
        "def Key_Expansion(Key):\n",
        "  w = []\n",
        "  # 00000000000000000000000000000000000000000000\n",
        "  for _ in range (44): w.append(0)\n",
        "\n",
        "  for row in range(4):\n",
        "    temp = \"\"\n",
        "    for col in range(4):\n",
        "      temp += bin(int(Key[col][row][0], 16))[2:].zfill(4) + bin(int(Key[col][row][1], 16))[2:].zfill(4)\n",
        "    w[row] = temp\n",
        "\n",
        "  for key in range (4, 44):\n",
        "    temp = w[key - 1]\n",
        "    if((key % 4) == 0):\n",
        "      arr = [temp[i:i + 8] for i in range(0, len(temp), 8)]\n",
        "      temp = g(arr, key // 4)\n",
        "\n",
        "    res = \"\"\n",
        "    for bit in range(32):\n",
        "      if(temp[bit] == w[key - 4][bit]): res += \"0\"\n",
        "      else: res += \"1\"\n",
        "    w[key] = res\n",
        "\n",
        "  return w"
      ],
      "metadata": {
        "id": "gaCYEkSSBS89"
      },
      "execution_count": null,
      "outputs": []
    },
    {
      "cell_type": "markdown",
      "source": [
        "# Bin2Hex"
      ],
      "metadata": {
        "id": "SiOZp0pEhX2J"
      }
    },
    {
      "cell_type": "code",
      "source": [
        "# Converts Bin to Hex\n",
        "def bin_hex(bin_str):\n",
        "    inp = hex(int(bin_str, 2))[2:].zfill(32)\n",
        "    arr = [inp[i:i + 2] for i in range(0, len(inp), 2)]\n",
        "\n",
        "    res = []\n",
        "    for row in range(4):\n",
        "      temp = []\n",
        "      for col in range(4):\n",
        "        temp.append(arr[(4*col) + row])\n",
        "      res.append(temp)\n",
        "\n",
        "    return res\n",
        "\n",
        "# Usage\n",
        "print(bin_hex(\"11001100010111111000001001000110001100100110110001011111101010010000111010100011010011010011000001111100101011101010001000010000\"))"
      ],
      "metadata": {
        "colab": {
          "base_uri": "https://localhost:8080/"
        },
        "id": "v_kizdigONsm",
        "outputId": "53d159bd-0c67-4c6f-d923-02c600da9c7c"
      },
      "execution_count": null,
      "outputs": [
        {
          "output_type": "stream",
          "name": "stdout",
          "text": [
            "[['cc', '32', '0e', '7c'], ['5f', '6c', 'a3', 'ae'], ['82', '5f', '4d', 'a2'], ['46', 'a9', '30', '10']]\n"
          ]
        }
      ]
    },
    {
      "cell_type": "markdown",
      "source": [
        "# Hex2Bin"
      ],
      "metadata": {
        "id": "Yg8r8k8WhaQG"
      }
    },
    {
      "cell_type": "code",
      "source": [
        "# Converts Hex to Bin\n",
        "def hex_bin(hex_arr):\n",
        "    bin_str = \"\"\n",
        "    for row in range(4):\n",
        "      temp = \"\"\n",
        "      for col in range(4):\n",
        "        temp += str(bin(int(hex_arr[col][row][0], 16))[2:].zfill(4))\n",
        "        temp += str(bin(int(hex_arr[col][row][1], 16))[2:].zfill(4))\n",
        "      bin_str += temp\n",
        "    return bin_str\n",
        "\n",
        "# Usage\n",
        "print(hex_bin([['cc', '5f', '82', '46'], ['32', '6c', '5f', 'a9'], ['0e', 'a3', '4d', '30'], ['7c', 'ae', 'a2', '10']]))"
      ],
      "metadata": {
        "colab": {
          "base_uri": "https://localhost:8080/"
        },
        "id": "EcWLjVGvO1GD",
        "outputId": "9c374de7-3b1d-4a7d-d9e0-6ef89581e739"
      },
      "execution_count": null,
      "outputs": [
        {
          "output_type": "stream",
          "name": "stdout",
          "text": [
            "11001100001100100000111001111100010111110110110010100011101011101000001001011111010011011010001001000110101010010011000000010000\n"
          ]
        }
      ]
    },
    {
      "cell_type": "markdown",
      "source": [
        "## Add Round Key"
      ],
      "metadata": {
        "id": "VLPfdPa6zJJl"
      }
    },
    {
      "cell_type": "code",
      "source": [
        "def add_round_key(state_array, key):\n",
        "  # Take xor with word[0:4] and pass to Round 1\n",
        "  str1 = hex_bin(state_array)\n",
        "  str2 = \"\"\n",
        "  for k in key: str2 += k\n",
        "  # Resultant\n",
        "  res = \"\"\n",
        "  for i in range(128):\n",
        "    if(str1[i] == str2[i]): res += \"0\"\n",
        "    else: res += \"1\"\n",
        "  return bin_hex(res)\n",
        "\n",
        "# Usage\n",
        "print(add_round_key([['cc', '5f', '82', '46'], ['32', '6c', '5f', 'a9'], ['0e', 'a3', '4d', '30'], ['7c', 'ae', 'a2', '10']], ['11001100010111111000001001000110', '00110010011011000101111110101001', '00001110101000110100110100110000', '01111100101011101010001000010001']))"
      ],
      "metadata": {
        "id": "zLGZjByV_tJw",
        "colab": {
          "base_uri": "https://localhost:8080/"
        },
        "outputId": "26d521e5-66c6-4865-b347-893c2e3e42f6"
      },
      "execution_count": null,
      "outputs": [
        {
          "output_type": "stream",
          "name": "stdout",
          "text": [
            "[['00', '6d', '8c', '3a'], ['6d', '00', 'fc', '07'], ['8c', 'fc', '00', '92'], ['3a', '07', '92', '01']]\n"
          ]
        }
      ]
    },
    {
      "cell_type": "markdown",
      "source": [
        "## Substitute Bytes"
      ],
      "metadata": {
        "id": "_SilXAHB0nd6"
      }
    },
    {
      "cell_type": "code",
      "source": [
        "# By making use of s_box substitutes bytes\n",
        "def sub_bytes(iperm):\n",
        "  res = []\n",
        "  for row in range(4):\n",
        "    temp = []\n",
        "    for col in range(4):\n",
        "      Row = int(iperm[row][col][0], 16)\n",
        "      Col = int(iperm[row][col][1], 16)\n",
        "      temp.append(hex(s_box[Row][Col])[2:].zfill(2))\n",
        "    res.append(temp)\n",
        "  return res\n",
        "\n",
        "# Usage\n",
        "print(sub_bytes([['cc', '5f', '82', '46'], ['32', '6c', '5f', 'a9'], ['0e', 'a3', '4d', '30'], ['7c', 'ae', 'a2', '10']]))"
      ],
      "metadata": {
        "colab": {
          "base_uri": "https://localhost:8080/"
        },
        "id": "ECW-FWOOe5vY",
        "outputId": "d9692bfe-4e6f-46db-91c0-9ef0e031cc45"
      },
      "execution_count": null,
      "outputs": [
        {
          "output_type": "stream",
          "name": "stdout",
          "text": [
            "[['4b', 'cf', '13', '5a'], ['23', '50', 'cf', 'd3'], ['ab', '0a', 'e3', '04'], ['10', 'e4', '3a', 'ca']]\n"
          ]
        }
      ]
    },
    {
      "cell_type": "markdown",
      "source": [
        "# Array2Matrix"
      ],
      "metadata": {
        "id": "Qy1Oo-2xhdW6"
      }
    },
    {
      "cell_type": "code",
      "source": [
        "# Coverts a 3x3 array into a matrix format string\n",
        "def tomatrix(matrix):\n",
        "  res = \"\"\n",
        "  for col in range(4):\n",
        "    for row in range(4):\n",
        "      res += matrix[col][row] + \" \\n\"[row==3]\n",
        "  return res"
      ],
      "metadata": {
        "id": "cqLGR7BYqsC3"
      },
      "execution_count": null,
      "outputs": []
    },
    {
      "cell_type": "code",
      "source": [
        "import pandas as pd\n",
        "from tabulate import tabulate"
      ],
      "metadata": {
        "id": "_kvmJf9uuEQT"
      },
      "execution_count": null,
      "outputs": []
    },
    {
      "cell_type": "markdown",
      "source": [
        "# XOR"
      ],
      "metadata": {
        "id": "gEfdVx1pszEr"
      }
    },
    {
      "cell_type": "code",
      "source": [
        "def XOR(X, Y):\n",
        "  assert len(X) == len(Y)\n",
        "  _x, _y, _z = \"\", \"\", \"\"\n",
        "  for i in X: _x += str(bin(int(i, 16))[2:].zfill(4))\n",
        "  for i in Y: _y += str(bin(int(i, 16))[2:].zfill(4))\n",
        "\n",
        "\n",
        "  for i in range(len(_x)):\n",
        "    if _x[i] == _y[i]: _z += '0'\n",
        "    else: _z += '1'\n",
        "\n",
        "  x = bin_hex(_z)\n",
        "  y = ''\n",
        "  for j in range(4):\n",
        "    for i in range(4):\n",
        "      y += x[i][j]\n",
        "  return y\n",
        "\n",
        "print(XOR(\"abcdabcd00000000\", \"0000abcd00000000\"))"
      ],
      "metadata": {
        "colab": {
          "base_uri": "https://localhost:8080/"
        },
        "id": "znuPdcDAsmHs",
        "outputId": "6c097428-130e-4098-a5bb-51efeaa50b61"
      },
      "execution_count": null,
      "outputs": [
        {
          "output_type": "stream",
          "name": "stdout",
          "text": [
            "0000000000000000abcd000000000000\n"
          ]
        }
      ]
    },
    {
      "cell_type": "markdown",
      "source": [
        "# AES"
      ],
      "metadata": {
        "id": "kVQLNKBOka8O"
      }
    },
    {
      "cell_type": "code",
      "source": [
        "def AES(X, Y):\n",
        "    res1 = sub_bytes(X)\n",
        "    # Deep copy of res1 without using any library\n",
        "    r1 = [row[:] for row in res1]\n",
        "    # Result after Shift Rows\n",
        "    res2 = shift_rows(r1, round)\n",
        "    # Result after mix_column\n",
        "    res3 = mix_columns(res2)\n",
        "    # Result after add_round_key\n",
        "    res4 = add_round_key(res3, Y)\n",
        "    y = ''\n",
        "    for j in range(4):\n",
        "      for i in range(4):\n",
        "        y += res4[i][j]\n",
        "    return y"
      ],
      "metadata": {
        "id": "CczH1VYcjiHY"
      },
      "execution_count": null,
      "outputs": []
    },
    {
      "cell_type": "markdown",
      "source": [
        "# A"
      ],
      "metadata": {
        "id": "-tfY_I0Gkcmm"
      }
    },
    {
      "cell_type": "code",
      "source": [
        "def rocca_A(X):\n",
        "    res1 = sub_bytes(X)\n",
        "    # Deep copy of res1 without using any library\n",
        "    r1 = [row[:] for row in res1]\n",
        "    # Result after Shift Rows\n",
        "    res2 = shift_rows(r1, round)\n",
        "    # Result after mix_column\n",
        "    res3 = mix_columns(res2)\n",
        "    return res3"
      ],
      "metadata": {
        "id": "ucA5DYLzke41"
      },
      "execution_count": null,
      "outputs": []
    },
    {
      "cell_type": "code",
      "source": [
        "def little_endian(X):\n",
        "  y = [X[i:i+2] for i in range(0, len(X), 2)]\n",
        "  z = y[::-1]\n",
        "  result = ''.join(z)\n",
        "  return result\n",
        "\n",
        "little_endian(\"428a2f98d728ae227137449123ef65cd\")"
      ],
      "metadata": {
        "id": "ZEE_yEdYxjEz",
        "colab": {
          "base_uri": "https://localhost:8080/",
          "height": 35
        },
        "outputId": "68702659-c6c7-45cf-d717-85c397007233"
      },
      "execution_count": null,
      "outputs": [
        {
          "output_type": "execute_result",
          "data": {
            "text/plain": [
              "'cd65ef239144377122ae28d7982f8a42'"
            ],
            "application/vnd.google.colaboratory.intrinsic+json": {
              "type": "string"
            }
          },
          "metadata": {},
          "execution_count": 16
        }
      ]
    },
    {
      "cell_type": "code",
      "source": [
        "rocca_Z0 = little_endian(\"428a2f98d728ae227137449123ef65cd\")\n",
        "rocca_Z1 = little_endian(\"b5c0fbcfec4d3b2fe9b5dba58189dbbc\")\n",
        "rocca_S = ['00000000000000000000000000000000'] * 8\n",
        "rocca_Z1"
      ],
      "metadata": {
        "id": "xgbcL3jG_vMa",
        "colab": {
          "base_uri": "https://localhost:8080/",
          "height": 35
        },
        "outputId": "08c83b5f-b65d-47f5-bc16-465139114b9b"
      },
      "execution_count": null,
      "outputs": [
        {
          "output_type": "execute_result",
          "data": {
            "text/plain": [
              "'bcdb8981a5dbb5e92f3b4deccffbc0b5'"
            ],
            "application/vnd.google.colaboratory.intrinsic+json": {
              "type": "string"
            }
          },
          "metadata": {},
          "execution_count": 17
        }
      ]
    },
    {
      "cell_type": "code",
      "source": [
        "def mld(X):\n",
        "  _x = \"\"\n",
        "  for i in X: _x += str(bin(int(i, 16))[2:].zfill(4))\n",
        "  return _x\n",
        "bin_hex(mld(rocca_Z0))"
      ],
      "metadata": {
        "id": "T8L3R-7EELCH",
        "colab": {
          "base_uri": "https://localhost:8080/"
        },
        "outputId": "0654ddc9-3dde-4a98-c868-2fd140f1f8cb"
      },
      "execution_count": null,
      "outputs": [
        {
          "output_type": "execute_result",
          "data": {
            "text/plain": [
              "[['cd', '91', '22', '98'],\n",
              " ['65', '44', 'ae', '2f'],\n",
              " ['ef', '37', '28', '8a'],\n",
              " ['23', '71', 'd7', '42']]"
            ]
          },
          "metadata": {},
          "execution_count": 18
        }
      ]
    },
    {
      "cell_type": "markdown",
      "source": [
        "# R"
      ],
      "metadata": {
        "id": "3PZwZNgIkuwO"
      }
    },
    {
      "cell_type": "code",
      "source": [
        "def rocca_R(X0, X1):\n",
        "      global rocca_Z0, rocca_Z1, rocca_S\n",
        "      Snew = ['0' * 32] * 8\n",
        "      Snew[0] = XOR(rocca_S[7], X0)\n",
        "      # print(Snew[0])\n",
        "      Snew[1] = AES(bin_hex(mld(rocca_S[0])), [mld(rocca_S[7])[i:i+32] for i in range(0, len(mld(rocca_S[7])), 32)]) # 4 * 32\n",
        "      # print(Snew[1])\n",
        "      Snew[2] = XOR(rocca_S[1], rocca_S[6])\n",
        "      # print(Snew[2])\n",
        "      Snew[3] = AES(bin_hex(mld(rocca_S[2])), [mld(rocca_S[1])[i:i+32] for i in range(0, len(mld(rocca_S[1])), 32)])\n",
        "      # print(Snew[3])\n",
        "      Snew[4] = XOR(rocca_S[3], X1)\n",
        "      # print(Snew[4])\n",
        "      Snew[5] = AES(bin_hex(mld(rocca_S[4])), [mld(rocca_S[3])[i:i+32] for i in range(0, len(mld(rocca_S[3])), 32)])\n",
        "      # print(Snew[5])\n",
        "      Snew[6] = AES(bin_hex(mld(rocca_S[5])), [mld(rocca_S[4])[i:i+32] for i in range(0, len(mld(rocca_S[4])), 32)])\n",
        "      # print(Snew[6])\n",
        "      Snew[7] = XOR(rocca_S[0], rocca_S[6])\n",
        "      # print(Snew[7])\n",
        "      for i in range(8): rocca_S[i] = Snew[i];\n",
        "      return None"
      ],
      "metadata": {
        "id": "GYqDgcqskvxs"
      },
      "execution_count": null,
      "outputs": []
    },
    {
      "cell_type": "code",
      "source": [
        "def len_enc(X):\n",
        "    global rocca_Z0, rocca_Z1, rocca_S\n",
        "    # Convert the length of X to hex and remove the \"0x\" prefix\n",
        "    l = hex(len(X))[2:]\n",
        "\n",
        "    # Pad with zeros to ensure a length of 32 characters\n",
        "    y = ('0' * (32 - len(l))) + l\n",
        "\n",
        "    # Reverse the string by 2-character groups to preserve the byte order\n",
        "    y = [y[i:i+2] for i in range(0, len(y), 2)][::-1]\n",
        "\n",
        "    # Join reversed groups back into a single string\n",
        "    result = ''.join(y)\n",
        "    return result\n"
      ],
      "metadata": {
        "id": "L5DY_SI46mjY"
      },
      "execution_count": null,
      "outputs": []
    },
    {
      "cell_type": "code",
      "source": [
        "def rocca_initialization(N, K0, K1):\n",
        "  global rocca_Z0, rocca_Z1, rocca_S\n",
        "  rocca_S[0], rocca_S[1], rocca_S[2], rocca_S[3] = K1, N, rocca_Z0, rocca_Z1\n",
        "  rocca_S[4], rocca_S[5], rocca_S[6], rocca_S[7] = XOR(N, K1), \"0\" * 32, K0, \"0\" * 32\n",
        "  for i in range(20): rocca_R(rocca_Z0, rocca_Z1)\n",
        "  # rocca_S[0] = XOR(rocca_S[0], K0) # Not Applicable for Original Paper\n",
        "  # rocca_S[4] = XOR(rocca_S[4], K1) # Not Applicable for Original Paper\n",
        "  return None"
      ],
      "metadata": {
        "id": "ucf_4qolmf6O"
      },
      "execution_count": null,
      "outputs": []
    },
    {
      "cell_type": "code",
      "source": [
        "def rocca_processAD(AD):\n",
        "  global rocca_Z0, rocca_Z1, rocca_S\n",
        "  d = len(AD) // 256\n",
        "  for i in range(d):\n",
        "    x = hex(int(AD[256*i:256*i+128], 2))[2:]\n",
        "    y = hex(int(AD[256*i+128: 256*i+256],2))[2:]\n",
        "    rocca_R(\"0\" * (32 - len(x)) + x, \"0\" * (32 - len(y)) + y)\n",
        "  return None"
      ],
      "metadata": {
        "id": "zxidzvlwmifY"
      },
      "execution_count": null,
      "outputs": []
    },
    {
      "cell_type": "code",
      "source": [
        "def rocca_encryption(M, C):\n",
        "    global rocca_Z0, rocca_Z1, rocca_S\n",
        "    # Convert C to a list to allow item assignment\n",
        "    C = list(C)\n",
        "    m = len(M) // 256  # Number of 256-bit blocks\n",
        "    for i in range(m):\n",
        "        # First 128-bit block processing\n",
        "        x = hex(int(M[256*i:256*i+128], 2))[2:]\n",
        "        x = \"0\" * (32 - len(x)) + x\n",
        "        tmp1 = mld(XOR(AES(bin_hex(mld(rocca_S[1])), [mld(rocca_S[5])[j:j+32] for j in range(0, len(mld(rocca_S[5])), 32)]), x))\n",
        "\n",
        "        # Assign tmp1 to C\n",
        "        k = 0\n",
        "        for j in range(256 * i, 256 * i + 128):\n",
        "            C[j] = tmp1[k]\n",
        "            k+=1\n",
        "\n",
        "        # Second 128-bit block processing\n",
        "        y = hex(int(M[256*i+128: 256*i+256],2))[2:]\n",
        "        y = \"0\" * (32 - len(y)) + y\n",
        "        tmp2 = mld(XOR(AES(bin_hex(mld(XOR(rocca_S[0], rocca_S[4]))), [mld(rocca_S[2])[j:j+32] for j in range(0, len(mld(rocca_S[2])), 32)]), y))\n",
        "\n",
        "        # Assign tmp2 to C\n",
        "        k = 0\n",
        "        for j in range(256 * i + 128, 256 * i + 256):\n",
        "            C[j] = tmp2[k]\n",
        "            k+=1\n",
        "\n",
        "        # Update the state\n",
        "        rocca_R(x, y)\n",
        "\n",
        "    # Convert C back to a string if necessary\n",
        "    return ''.join(C)\n"
      ],
      "metadata": {
        "id": "hj88ghEnmtP9"
      },
      "execution_count": null,
      "outputs": []
    },
    {
      "cell_type": "code",
      "source": [
        "def rocca_finalization(l_AD, l_M):\n",
        "  global rocca_Z0, rocca_Z1, rocca_S\n",
        "  for i in range(20): rocca_R(l_AD, l_M)\n",
        "  T = \"0\" * 32\n",
        "  for i in range(8): T = XOR(T, rocca_S[i])\n",
        "  return T"
      ],
      "metadata": {
        "id": "chmQJseam1cQ"
      },
      "execution_count": null,
      "outputs": []
    },
    {
      "cell_type": "code",
      "source": [
        "def rocca_encrypt(K0, K1, N, AD, M):\n",
        "  global rocca_Z0, rocca_Z1, rocca_S\n",
        "  # Initalize State\n",
        "  # print(\"[&] Initalizing State Vector\")\n",
        "  rocca_initialization(N, K0, K1)\n",
        "  m = \"\"\n",
        "  for i in AD:\n",
        "    m += str(bin(int(i, 16))[2:].zfill(4))\n",
        "\n",
        "  if(len(m) > 0):\n",
        "    lAD = len(m)\n",
        "    d = lAD // 256\n",
        "    _AD = m\n",
        "    # Padding required\n",
        "    if lAD%256 != 0:\n",
        "      # print(\"[&] Adding Padding to AD\")\n",
        "      _AD = m + ''.join(['0'] * ((d + 1) * 256 - lAD))\n",
        "    rocca_processAD(_AD)\n",
        "\n",
        "  m_bits = \"\"\n",
        "  for i in M:\n",
        "    m_bits += str(bin(int(i, 16))[2:].zfill(4))\n",
        "\n",
        "  if(len(m_bits) > 0):\n",
        "    lM = len(m_bits)\n",
        "    d = (lM) // 256\n",
        "    _M = m_bits\n",
        "\n",
        "    # Padding required\n",
        "    if (lM%256) != 0:\n",
        "      # print(\"[&] Adding Padding to M\")\n",
        "      _M = m_bits + ''.join(['0'] * ((d + 1) * 256 - lM))\n",
        "\n",
        "\n",
        "    # print(\"[&] Encrypting\")\n",
        "    C = '#' * len(_M)\n",
        "    C = rocca_encryption(_M, C)\n",
        "    C = C[:len(m_bits)]\n",
        "  # print(\"[&] Finalizing\")\n",
        "  T = rocca_finalization(len_enc(m), len_enc(m_bits))\n",
        "  C = hex(int(C, 2))[2:].zfill(32)\n",
        "  return (C, T)\n",
        "\n"
      ],
      "metadata": {
        "id": "8gjucq0gmJL9"
      },
      "execution_count": null,
      "outputs": []
    },
    {
      "cell_type": "markdown",
      "source": [
        "K0: 0x2b7e151628aed2a6abf7158809cf4f3c\n",
        "\n",
        "K1: 0x3d4c4e87cb07f8586e827f4e90c2a8f1\n",
        "\n",
        "N:  0xf0f1f2f3f4f5f6f7f8f9fafbfcfdfeff\n",
        "\n",
        "AD: 0xfeedfacedeadbeeffeedfacedeadbeefabaddad2\n",
        "\n",
        "M:  0x6bc1bee22e409f96e93d7e117393172a"
      ],
      "metadata": {
        "id": "jlpKAd9r9Tnh"
      }
    },
    {
      "cell_type": "code",
      "source": [
        "K0 = \"11\" * 16\n",
        "K1 = \"22\" * 16\n",
        "N  = \"44\" * 16\n",
        "AD = \"808182838485868788898a8b8c8d8e8f9091\"\n",
        "M  = \"000102030405060708090a0b0c0d0e0f101112131415161718191a1b1c1d1e1f202122232425262728292a2b2c2d2e2f303132333435363738393a3b3c3d3e3f\"\n",
        "print(rocca_encrypt(K0,K1, N, AD, M)) # abcdef"
      ],
      "metadata": {
        "colab": {
          "base_uri": "https://localhost:8080/"
        },
        "id": "RZcf10XH9q0R",
        "outputId": "34be6b51-7dc5-4f15-870b-d78400d1225b"
      },
      "execution_count": null,
      "outputs": [
        {
          "output_type": "stream",
          "name": "stdout",
          "text": [
            "[&] Initalizing State Vector\n",
            "[&] Adding Padding to AD\n",
            "[&] Encrypting\n",
            "[&] Finalizing\n",
            "('348b6f6efad807d246ebf345e730d83e5963bd6d29eedc49a13540545ae232a7034ed4ef198a1eb1f8b116a1760354b77260d6f2cca46efcadfc4765fffe9f09', 'a9f2069456559de3e69d233e154ba05e')\n"
          ]
        }
      ]
    },
    {
      "cell_type": "markdown",
      "source": [
        "K0: 0x2b7e151628aed2a6abf7158809cf4f3c\n",
        "\n",
        "K1: 0x3d4c4e87cb07f8586e827f4e90c2a8f1\n",
        "\n",
        "N:  0xf0f1f2f3f4f5f6f7f8f9fafbfcfdfeff\n",
        "\n",
        "AD: 0xfeedfacedeadbeeffeedfacedeadbeefabaddad2\n",
        "\n",
        "M:  0x6bc1bee22e409f96e93d7e117393172a"
      ],
      "metadata": {
        "id": "N0AvlJ9A-GEU"
      }
    },
    {
      "cell_type": "code",
      "source": [
        "import time"
      ],
      "metadata": {
        "id": "o2-YrGXlliDO"
      },
      "execution_count": null,
      "outputs": []
    },
    {
      "cell_type": "code",
      "source": [
        "# Analysis\n",
        "K0 = \"00\" * 16\n",
        "K1 = \"00\" * 16\n",
        "N  = \"00\" * 16\n",
        "AD = \"00\" * 32\n",
        "BYTES = [64, 256, 1024, 8192, 81920]\n",
        "for i in range(5):\n",
        "  print(f\"----------------------------------------Test Case {i}----------------------------------------\")\n",
        "  Bytes = BYTES[i]\n",
        "  M = \"00\" * Bytes\n",
        "  print(f\"K0 : {K0}\")\n",
        "  print(f\"K1 : {K1}\")\n",
        "  print(f\"N : {N}\")\n",
        "  print(f\"AD : {AD}\")\n",
        "  print(f\"Message Length[in bytes] : {Bytes}\")\n",
        "  print()\n",
        "  print(\"Starting\")\n",
        "  start_time = time.time()\n",
        "  rocca_encrypt(K0, K1, N, AD, M)\n",
        "  end_time = time.time()\n",
        "  print(\"Finished\")\n",
        "  elapsed_time = end_time - start_time\n",
        "  print(\"Time Elapsed:\", elapsed_time)\n",
        "  print(\"Speed: \", Bytes * 8 / (elapsed_time * 1000), \"Mbps\")\n",
        "  print()"
      ],
      "metadata": {
        "colab": {
          "base_uri": "https://localhost:8080/"
        },
        "id": "dQy8hnMvkl1b",
        "outputId": "13b4335f-3463-4135-9c92-cb29645c077c"
      },
      "execution_count": null,
      "outputs": [
        {
          "output_type": "stream",
          "name": "stdout",
          "text": [
            "----------------------------------------Test Case 0----------------------------------------\n",
            "K0 : 00000000000000000000000000000000\n",
            "K1 : 00000000000000000000000000000000\n",
            "N : 00000000000000000000000000000000\n",
            "AD : 0000000000000000000000000000000000000000000000000000000000000000\n",
            "Message Length[in bytes] : 64\n",
            "\n",
            "Starting\n",
            "Finished\n",
            "Time Elapsed: 0.11505484580993652\n",
            "Speed:  4.450051594052738 Mbps\n",
            "\n",
            "----------------------------------------Test Case 1----------------------------------------\n",
            "K0 : 00000000000000000000000000000000\n",
            "K1 : 00000000000000000000000000000000\n",
            "N : 00000000000000000000000000000000\n",
            "AD : 0000000000000000000000000000000000000000000000000000000000000000\n",
            "Message Length[in bytes] : 256\n",
            "\n",
            "Starting\n",
            "Finished\n",
            "Time Elapsed: 0.12309837341308594\n",
            "Speed:  16.637100419901145 Mbps\n",
            "\n",
            "----------------------------------------Test Case 2----------------------------------------\n",
            "K0 : 00000000000000000000000000000000\n",
            "K1 : 00000000000000000000000000000000\n",
            "N : 00000000000000000000000000000000\n",
            "AD : 0000000000000000000000000000000000000000000000000000000000000000\n",
            "Message Length[in bytes] : 1024\n",
            "\n",
            "Starting\n",
            "Finished\n",
            "Time Elapsed: 0.21660590171813965\n",
            "Speed:  37.81983747912793 Mbps\n",
            "\n",
            "----------------------------------------Test Case 3----------------------------------------\n",
            "K0 : 00000000000000000000000000000000\n",
            "K1 : 00000000000000000000000000000000\n",
            "N : 00000000000000000000000000000000\n",
            "AD : 0000000000000000000000000000000000000000000000000000000000000000\n",
            "Message Length[in bytes] : 8192\n",
            "\n",
            "Starting\n",
            "Finished\n",
            "Time Elapsed: 0.999748706817627\n",
            "Speed:  65.55247288952484 Mbps\n",
            "\n",
            "----------------------------------------Test Case 4----------------------------------------\n",
            "K0 : 00000000000000000000000000000000\n",
            "K1 : 00000000000000000000000000000000\n",
            "N : 00000000000000000000000000000000\n",
            "AD : 0000000000000000000000000000000000000000000000000000000000000000\n",
            "Message Length[in bytes] : 81920\n",
            "\n",
            "Starting\n",
            "Finished\n",
            "Time Elapsed: 10.573662281036377\n",
            "Speed:  61.98041724629065 Mbps\n",
            "\n"
          ]
        }
      ]
    },
    {
      "cell_type": "code",
      "source": [
        "# 0123456789abcdeffedcba9876543210\n",
        "# 0f1571c947d9e8590cb7add6af7f6798"
      ],
      "metadata": {
        "id": "KtmyoYByyJuv"
      },
      "execution_count": null,
      "outputs": []
    }
  ]
}